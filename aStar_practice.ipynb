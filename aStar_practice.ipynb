{
  "nbformat": 4,
  "nbformat_minor": 0,
  "metadata": {
    "colab": {
      "provenance": [],
      "collapsed_sections": [],
      "authorship_tag": "ABX9TyNu1DieYZwZVJHWpy1riJ/8"
    },
    "kernelspec": {
      "name": "python3",
      "display_name": "Python 3"
    },
    "language_info": {
      "name": "python"
    }
  },
  "cells": [
    {
      "cell_type": "markdown",
      "source": [
        "참고 코드: https://choiseokwon.tistory.com/210\n",
        "\n",
        "Node 클래스\n"
      ],
      "metadata": {
        "id": "2TpTLrdehYsG"
      }
    },
    {
      "cell_type": "code",
      "execution_count": null,
      "metadata": {
        "id": "f3M8K-cIg749"
      },
      "outputs": [],
      "source": [
        "class Node:\n",
        "  def __init__(self, parent=None, position=None):\n",
        "    self.parent = parent  # 이전 노드\n",
        "    self.position = position # 현재 위치\n",
        "\n",
        "    self.f = 0\n",
        "    self.g = 0\n",
        "    self.h = 0\n",
        "\n",
        "  def __eq__(self, other):\n",
        "    return self.position == other.position"
      ]
    },
    {
      "cell_type": "markdown",
      "source": [
        "**노드의 현재 위치는 xy좌표계를 사용**\n",
        "\n",
        "ex) start = (0, 0), end = (9, 9)\n",
        "\n",
        "aStar(start, end) -> Node(None, start)"
      ],
      "metadata": {
        "id": "EwdEbDRphurl"
      }
    },
    {
      "cell_type": "code",
      "source": [
        "def heuristic(node, goal, D=1, D2=2 ** 0.5):  # Diagonal Distance\n",
        "  dx = abs(node.position[0] - goal.position[0])\n",
        "  dy = abs(node.position[1] - goal.position[1])\n",
        "  return D * (dx + dy) + (D2 - 2*D) * min(dx, dy)"
      ],
      "metadata": {
        "id": "HHffI1U5h--2"
      },
      "execution_count": null,
      "outputs": []
    },
    {
      "cell_type": "code",
      "source": [
        "def aStar(maze, start, end):\n",
        "  # startNode와 endNode 초기화\n",
        "  startNode = Node(None, start)\n",
        "  endNode = Node(None, end)\n",
        "\n",
        "  # openList, closedList 초기화\n",
        "  openList = []  # 열린 길\n",
        "  closedList = []  # 닫힌 길(=다녀온 길)\n",
        "\n",
        "  # openList에 시작 노드 추가\n",
        "  openList.append(startNode)\n",
        "\n",
        "  # endNode를 찾을 때까지 실행\n",
        "  while openList:\n",
        "\n",
        "    # 현재 노드 지정\n",
        "    currentNode = openList[0]\n",
        "    currentIdx = 0\n",
        "\n",
        "    # 이미 같은 노드가 openList에 있고, f값이 더 크면\n",
        "    # currentNode를 openList안에 있는 값으로 교체\n",
        "    for index, item in enumerate(openList):\n",
        "      if item.f < currentNode.f:\n",
        "        currentNode = item\n",
        "        currentIdx = index\n",
        "    \n",
        "    # openList에서 제거하고 closedList에 추가\n",
        "    openList.pop(currentIdx)\n",
        "    closedList.append(currentNode)\n",
        "\n",
        "    # 현재 노드가 목적지면 current.position 추가하고\n",
        "    # current의 부모로 이동\n",
        "    if currentNode == endNode:\n",
        "      path = []\n",
        "      current = currentNode\n",
        "      while current is not None:\n",
        "        # maze 길을 표시하려면 주석 해제\n",
        "        # x, y = current.position\n",
        "        # maze[x][y] = 7\n",
        "        path.append(current.position)\n",
        "        current = current.parent\n",
        "      return path[::-1]  # reverse\n",
        "    \n",
        "    children = []\n",
        "    # 인접한 xy좌표 전부\n",
        "    for newPosition in [(0, -1), (0, 1), (-1, 0), (1, 0), (-1, -1), (-1, 1), (1, -1), (1, 1)]:\n",
        "\n",
        "      # 노드 위치 업데이트\n",
        "      nodePosition = (\n",
        "          currentNode.position[0] + newPosition[0],  # X\n",
        "          currentNode.position[1] + newPosition[1])  # Y\n",
        "\n",
        "      # 미로 maze index 범위 안에 있어야 함\n",
        "      within_range_criteria = [\n",
        "          nodePosition[0] > (len(maze) - 1),\n",
        "          nodePosition[0] < 1,\n",
        "          nodePosition[1] > (len(maze[len(maze) - 1]) - 1),\n",
        "          nodePosition[1] < 0\n",
        "      ]\n",
        "\n",
        "      if any(within_range_criteria):  # 하나라도 true면 범위 밖임\n",
        "        continue\n",
        "      \n",
        "      # 장애물이 있으면 다른 위치 불러오기\n",
        "      if maze[nodePosition[0]][nodePosition[1]] != 0:\n",
        "        continue\n",
        "      \n",
        "      new_node = Node(currentNode, nodePosition)\n",
        "      children.append(new_node)\n",
        "    \n",
        "    # 자식들 모두 loop\n",
        "    for child in children:\n",
        "\n",
        "      # 자식이 closedList에 있으면 continue\n",
        "      if child in closedList:\n",
        "        continue\n",
        "      \n",
        "      # f, g, h값 업데이트\n",
        "      child.g = currentNode.g + 1\n",
        "      # child.h = ((child.position[0] - endNode.position[0]) **\n",
        "      #            2) + ((child.position[1] - endNode.position[1]) ** 2)\n",
        "      child.h= heuristic(child, endNode) # 다른 휴리스틱\n",
        "      print(\"position:\", child.position) # 거리 추정 값 보기\n",
        "      print(\"from child to goal:\", child.h)\n",
        "\n",
        "      child.f = child.g + child.h\n",
        "\n",
        "      # 자식이 openList에 있고, g값이 더 크면 continue\n",
        "      if len([openNode for openNode in openList\n",
        "              if child == openNode and child.g > openNode.g]) > 0:\n",
        "          continue\n",
        "      \n",
        "      openList.append(child)"
      ],
      "metadata": {
        "id": "evczE_4niL4t"
      },
      "execution_count": null,
      "outputs": []
    },
    {
      "cell_type": "code",
      "source": [
        "def main():\n",
        "  # 1은 장애물\n",
        "  maze = [[0, 0, 0, 0, 1, 0, 0, 0, 0, 0],\n",
        "            [0, 0, 0, 0, 1, 0, 0, 0, 0, 0],\n",
        "            [0, 0, 0, 0, 1, 0, 0, 0, 0, 0],\n",
        "            [0, 0, 0, 0, 1, 0, 0, 0, 0, 0],\n",
        "            [0, 0, 0, 0, 1, 0, 0, 0, 0, 0],\n",
        "            [0, 0, 0, 0, 0, 0, 0, 0, 0, 0],\n",
        "            [0, 0, 0, 0, 1, 0, 0, 0, 0, 0],\n",
        "            [0, 0, 0, 0, 1, 0, 0, 0, 0, 0],\n",
        "            [0, 0, 0, 0, 1, 0, 0, 0, 0, 0],\n",
        "            [0, 0, 0, 0, 0, 0, 0, 0, 0, 0]]\n",
        "  \n",
        "  start = (0, 0)\n",
        "  end = (7, 6)\n",
        "\n",
        "  path = aStar(maze, start, end)\n",
        "  print(path)\n",
        "\n",
        "if __name__ == '__main__':\n",
        "  main()\n",
        "  # [(0, 0), (1, 1), (2, 2), (3, 3), (4, 3), (5, 4), (6, 5), (7, 6)]"
      ],
      "metadata": {
        "colab": {
          "base_uri": "https://localhost:8080/"
        },
        "id": "N3s9WLk3wjM0",
        "outputId": "b53d93af-792c-48b9-8d18-92e3da6c63d9"
      },
      "execution_count": null,
      "outputs": [
        {
          "output_type": "stream",
          "name": "stdout",
          "text": [
            "position: (1, 0)\n",
            "from child to goal: 8.485281374238571\n",
            "position: (1, 1)\n",
            "from child to goal: 8.071067811865476\n",
            "position: (1, 0)\n",
            "from child to goal: 8.485281374238571\n",
            "position: (1, 2)\n",
            "from child to goal: 7.656854249492381\n",
            "position: (2, 1)\n",
            "from child to goal: 7.0710678118654755\n",
            "position: (2, 0)\n",
            "from child to goal: 8.071067811865476\n",
            "position: (2, 2)\n",
            "from child to goal: 6.656854249492381\n",
            "position: (2, 1)\n",
            "from child to goal: 7.0710678118654755\n",
            "position: (2, 3)\n",
            "from child to goal: 6.242640687119286\n",
            "position: (1, 2)\n",
            "from child to goal: 7.656854249492381\n",
            "position: (3, 2)\n",
            "from child to goal: 5.656854249492381\n",
            "position: (1, 3)\n",
            "from child to goal: 7.242640687119286\n",
            "position: (3, 1)\n",
            "from child to goal: 6.656854249492381\n",
            "position: (3, 3)\n",
            "from child to goal: 5.242640687119286\n",
            "position: (3, 2)\n",
            "from child to goal: 5.656854249492381\n",
            "position: (2, 3)\n",
            "from child to goal: 6.242640687119286\n",
            "position: (4, 3)\n",
            "from child to goal: 4.242640687119286\n",
            "position: (4, 2)\n",
            "from child to goal: 5.242640687119286\n",
            "position: (4, 2)\n",
            "from child to goal: 5.242640687119286\n",
            "position: (5, 3)\n",
            "from child to goal: 3.8284271247461903\n",
            "position: (3, 2)\n",
            "from child to goal: 5.656854249492381\n",
            "position: (5, 2)\n",
            "from child to goal: 4.82842712474619\n",
            "position: (5, 4)\n",
            "from child to goal: 2.8284271247461903\n",
            "position: (5, 3)\n",
            "from child to goal: 3.8284271247461903\n",
            "position: (5, 5)\n",
            "from child to goal: 2.414213562373095\n",
            "position: (4, 5)\n",
            "from child to goal: 3.414213562373095\n",
            "position: (6, 3)\n",
            "from child to goal: 3.414213562373095\n",
            "position: (6, 5)\n",
            "from child to goal: 1.4142135623730951\n",
            "position: (6, 6)\n",
            "from child to goal: 1.0\n",
            "position: (5, 5)\n",
            "from child to goal: 2.414213562373095\n",
            "position: (7, 5)\n",
            "from child to goal: 1.0\n",
            "position: (5, 6)\n",
            "from child to goal: 2.0\n",
            "position: (7, 6)\n",
            "from child to goal: 0.0\n",
            "[(0, 0), (1, 1), (2, 2), (3, 3), (4, 3), (5, 4), (6, 5), (7, 6)]\n"
          ]
        }
      ]
    },
    {
      "cell_type": "code",
      "source": [],
      "metadata": {
        "id": "FnBSyDvhw30Y"
      },
      "execution_count": null,
      "outputs": []
    }
  ]
}